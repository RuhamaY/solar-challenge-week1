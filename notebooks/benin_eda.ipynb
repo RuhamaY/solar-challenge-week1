{
 "cells": [
  {
   "cell_type": "markdown",
   "id": "5a74eff8",
   "metadata": {},
   "source": [
    "# Exploratory Data Analysis of Solar Data\n",
    "\n",
    "This notebook performs:\n",
    "\n",
    "1. **Summary statistics & missing-value report**  \n",
    "2. **Outlier detection & basic cleaning**  \n",
    "3. **Time-series analysis** of irradiance & temperature  \n",
    "4. **Cleaning impact** on module readings  \n",
    "5. **Correlation & relationship analysis**  \n",
    "6. **Wind and distribution analysis**  \n",
    "7. **Histograms**  \n",
    "8. **Bubble chart**\n",
    "9. **Export cleaned data**"
   ]
  },
  {
   "cell_type": "markdown",
   "id": "a69d944c",
   "metadata": {},
   "source": [
    "## Setup"
   ]
  },
  {
   "cell_type": "code",
   "execution_count": null,
   "id": "68bdacab",
   "metadata": {},
   "outputs": [],
   "source": [
    "import pandas as pd\n",
    "import numpy as np\n",
    "import matplotlib.pyplot as plt\n",
    "from scipy.stats import linregress\n",
    "\n",
    "df = pd.read_csv(\"../data/benin-malanville.csv\", parse_dates=[\"Timestamp\"])\n",
    "df.head()"
   ]
  },
  {
   "cell_type": "markdown",
   "id": "e91a3a05",
   "metadata": {},
   "source": [
    "## Summary Statistics & Missing-Value Report\n",
    "\n",
    "- `df.describe()` on numeric columns  \n",
    "- Count nulls (`df.isna().sum()`)  \n",
    "- List columns with > 5% missing\n"
   ]
  },
  {
   "cell_type": "code",
   "execution_count": null,
   "id": "e8c04f96",
   "metadata": {},
   "outputs": [],
   "source": [
    "# Summary stats\n",
    "display(df.describe())\n",
    "\n",
    "# Missing-value counts\n",
    "null = df.isna().sum()\n",
    "missing = null / len(df) * 100\n",
    "\n",
    "print(\"Null counts per column:\")\n",
    "print(null)\n",
    "\n",
    "print(\"\\nColumns with >5% nulls:\")\n",
    "print(missing[missing > 5])\n"
   ]
  },
  {
   "cell_type": "markdown",
   "id": "37a24b78",
   "metadata": {},
   "source": [
    "## Outlier Detection & Basic Cleaning\n",
    "\n",
    "- Computation of Z-scores for key columns  \n",
    "- Outlier flagging for |Z| > 3  \n",
    "- Imputation of missing values in key columns with median  \n",
    "- Exporting the cleaned DataFrame\n"
   ]
  },
  {
   "cell_type": "code",
   "execution_count": null,
   "id": "4b3aea70",
   "metadata": {},
   "outputs": [],
   "source": [
    "cols = [\"GHI\",\"DNI\",\"DHI\",\"ModA\",\"ModB\",\"WS\",\"WSgust\"]\n",
    "\n",
    "# Z-scores & flagging\n",
    "for c in cols:\n",
    "    df[f\"{c}_z\"] = (df[c] - df[c].mean()) / df[c].std(ddof=0)\n",
    "    df[f\"{c}_outlier\"] = df[f\"{c}_z\"].abs() > 3\n",
    "\n",
    "df[\"any_outlier\"] = df[[f\"{c}_outlier\" for c in cols]].any(axis=1)\n",
    "\n",
    "# Median imputation\n",
    "for c in cols + [\"Tamb\",\"RH\",\"WD\",\"BP\"]:\n",
    "    if c in df:\n",
    "        df[c].fillna(df[c].median(), inplace=True)\n",
    "\n",
    "# Save cleaned\n",
    "df.to_csv(\"../data/benin-malanville_clean.csv\", index=False)\n",
    "print(\"Cleaned data exported to data/benin-malanville_clean.csv\")\n",
    "\n",
    "df_clean = pd.read_csv(\"../data/benin-malanville_clean.csv\", parse_dates=[\"Timestamp\"])\n",
    "df_clean.head()\n"
   ]
  },
  {
   "cell_type": "markdown",
   "id": "42b8262c",
   "metadata": {},
   "source": [
    "## Time-Series Plots\n",
    "\n",
    "Plot of GHI, DNI, DHI & Tamb vs. Timestamp  "
   ]
  },
  {
   "cell_type": "code",
   "execution_count": null,
   "id": "e23bb474",
   "metadata": {},
   "outputs": [],
   "source": [
    "# Line plots\n",
    "for c in [\"GHI\",\"DNI\",\"DHI\",\"Tamb\"]:\n",
    "    plt.figure()\n",
    "    plt.plot(df[\"Timestamp\"], df_clean[c])\n",
    "    plt.title(f\"{c} over time\")\n",
    "    plt.xlabel(\"Timestamp\")\n",
    "    plt.ylabel(c)\n",
    "    plt.xticks(rotation=45)\n",
    "    plt.tight_layout()\n",
    "    plt.show()"
   ]
  },
  {
   "cell_type": "markdown",
   "id": "d98b9150",
   "metadata": {},
   "source": [
    "## Anomality check"
   ]
  },
  {
   "cell_type": "code",
   "execution_count": null,
   "id": "9a27da0e",
   "metadata": {},
   "outputs": [],
   "source": [
    "\n",
    "# Monthly average GHI\n",
    "monthly = df_clean.set_index(\"Timestamp\").resample(\"M\")[\"GHI\"].mean()\n",
    "plt.figure()\n",
    "plt.bar(monthly.index.month, monthly.values)\n",
    "plt.title(\"Average Monthly GHI\")\n",
    "plt.xlabel(\"Month\")\n",
    "plt.ylabel(\"GHI\")\n",
    "plt.xticks(range(1,13))\n",
    "plt.show()\n",
    "\n",
    "# Monthly average DNI\n",
    "monthly = df_clean.set_index(\"Timestamp\").resample(\"M\")[\"DNI\"].mean()\n",
    "plt.figure()\n",
    "plt.bar(monthly.index.month, monthly.values)\n",
    "plt.title(\"Average Monthly DNI\")\n",
    "plt.xlabel(\"Month\")\n",
    "plt.ylabel(\"DNI\")\n",
    "plt.xticks(range(1,13))\n",
    "plt.show()\n",
    "\n",
    "# Monthly average DHI\n",
    "monthly = df_clean.set_index(\"Timestamp\").resample(\"M\")[\"DHI\"].mean()\n",
    "plt.figure()\n",
    "plt.bar(monthly.index.month, monthly.values)\n",
    "plt.title(\"Average Monthly DHI\")\n",
    "plt.xlabel(\"Month\")\n",
    "plt.ylabel(\"DHI\")\n",
    "plt.xticks(range(1,13))\n",
    "plt.show()\n",
    "\n",
    "# Monthly average Tamb\n",
    "monthly = df_clean.set_index(\"Timestamp\").resample(\"M\")[\"Tamb\"].mean()\n",
    "plt.figure()\n",
    "plt.bar(monthly.index.month, monthly.values)\n",
    "plt.title(\"Average Monthly Tamb\")\n",
    "plt.xlabel(\"Month\")\n",
    "plt.ylabel(\"Tamb\")\n",
    "plt.xticks(range(1,13))\n",
    "plt.show()"
   ]
  },
  {
   "cell_type": "markdown",
   "id": "a9b087d3",
   "metadata": {},
   "source": [
    "## Impact of Cleaning"
   ]
  },
  {
   "cell_type": "code",
   "execution_count": null,
   "id": "de7095a5",
   "metadata": {},
   "outputs": [],
   "source": [
    "df[\"CleanFlag\"]   = \"Before\"\n",
    "df_clean[\"CleanFlag\"] = \"After\"\n",
    "\n",
    "df_combined_benin = pd.concat([df, df_clean], ignore_index=True)\n",
    "\n",
    "# 4. Group by flag and compute means\n",
    "avg = df_combined_benin.groupby(\"CleanFlag\")[[\"ModA\", \"ModB\"]].mean()\n",
    "\n",
    "# 5. Plot\n",
    "ax = avg.plot(kind=\"bar\", rot=0)\n",
    "ax.set_title(\"Average Module Readings: Before vs. After Cleaning\")\n",
    "ax.set_xlabel(\"Cleaning Status\")\n",
    "ax.set_ylabel(\"Mean Module Reading\")\n",
    "plt.tight_layout()\n",
    "plt.show()\n",
    "print(avg)"
   ]
  },
  {
   "cell_type": "markdown",
   "id": "839bc8f4",
   "metadata": {},
   "source": [
    "## Correlation & Scatter Plots"
   ]
  },
  {
   "cell_type": "code",
   "execution_count": null,
   "id": "3adcfc9f",
   "metadata": {},
   "outputs": [],
   "source": [
    "vars_corr = [\"GHI\",\"DNI\",\"DHI\",\"TModA\",\"TModB\"]\n",
    "corr = df_clean[vars_corr].corr()\n",
    "\n",
    "# Heatmap\n",
    "plt.figure()\n",
    "plt.imshow(corr, aspect=\"auto\")\n",
    "plt.colorbar()\n",
    "plt.xticks(range(len(vars_corr)), vars_corr, rotation=45)\n",
    "plt.yticks(range(len(vars_corr)), vars_corr)\n",
    "plt.title(\"Correlation matrix\")\n",
    "plt.tight_layout()\n",
    "plt.show()\n",
    "\n",
    "# Scatter pairs\n",
    "for x,y in [(\"WS\",\"GHI\"),(\"WD\",\"GHI\"),(\"RH\",\"Tamb\"),(\"RH\",\"GHI\")]:\n",
    "    if x in df_clean and y in df:\n",
    "        plt.figure()\n",
    "        plt.scatter(df[x], df[y])\n",
    "        plt.title(f\"{x} vs. {y}\")\n",
    "        plt.xlabel(x)\n",
    "        plt.ylabel(y)\n",
    "        plt.tight_layout()\n",
    "        plt.show()\n"
   ]
  },
  {
   "cell_type": "markdown",
   "id": "1891acbe",
   "metadata": {},
   "source": [
    "## Wind and distribution analysis"
   ]
  },
  {
   "cell_type": "code",
   "execution_count": null,
   "id": "1cd8cadf",
   "metadata": {},
   "outputs": [],
   "source": [
    "if all(c in df_clean for c in (\"WS\",\"WD\")):\n",
    "    bins = np.arange(0,361,30)\n",
    "    labels = bins[:-1] + 15\n",
    "    df_clean[\"WD_bin\"] = pd.cut(df[\"WD\"], bins, right=False, labels=labels)\n",
    "    wind = df_clean.groupby(\"WD_bin\")[\"WS\"].mean()\n",
    "    angles = np.deg2rad(wind.index.astype(float))\n",
    "    ax = plt.subplot(projection=\"polar\")\n",
    "    ax.bar(angles, wind.values, width=np.deg2rad(30), align=\"center\")\n",
    "    ax.set_theta_zero_location(\"N\")\n",
    "    ax.set_theta_direction(-1)\n",
    "    plt.title(\"Wind Rose (mean WS by direction)\")\n",
    "    plt.tight_layout()\n",
    "    plt.show()\n",
    "else:\n",
    "    print(\"WS or WD not in DataFrame.\")\n"
   ]
  },
  {
   "cell_type": "markdown",
   "id": "e4d9b172",
   "metadata": {},
   "source": [
    "## Tempreature analysis\n",
    "\n",
    "1. Plot of **RH vs. Tamb** with a regression line  \n",
    "2. Plot of **RH vs. GHI** with a regression line  \n",
    "3. Computation and display of the slope, intercept, and R² for each model"
   ]
  },
  {
   "cell_type": "code",
   "execution_count": null,
   "id": "2e281c87",
   "metadata": {},
   "outputs": [],
   "source": [
    "# Define the two relationships to explore\n",
    "pairs = [(\"RH\", \"Tamb\"), (\"RH\", \"GHI\")]\n",
    "\n",
    "for x_col, y_col in pairs:\n",
    "    # Drop NA\n",
    "    mask = df_clean[x_col].notna() & df_clean[y_col].notna()\n",
    "    x = df_clean.loc[mask, x_col]\n",
    "    y = df_clean.loc[mask, y_col]\n",
    "    \n",
    "    # Fit linear regression\n",
    "    res = linregress(x, y)\n",
    "    line = res.intercept + res.slope * x\n",
    "    \n",
    "    # Plot\n",
    "    plt.figure()\n",
    "    plt.scatter(x, y, alpha=0.5)\n",
    "    plt.plot(x, line, label=(\n",
    "        f\"y = {res.slope:.2f}x + {res.intercept:.2f}\\n\"\n",
    "        f\"R² = {res.rvalue**2:.2f}\"\n",
    "    ))\n",
    "    plt.title(f\"{y_col} vs. {x_col} with Regression Line\")\n",
    "    plt.xlabel(x_col)\n",
    "    plt.ylabel(y_col)\n",
    "    plt.legend()\n",
    "    plt.tight_layout()\n",
    "    plt.show()\n",
    "    \n",
    "    # Print stats\n",
    "    print(f\"Regression for {y_col} ~ {x_col}:\")\n",
    "    print(f\"  • Slope     = {res.slope:.4f}\")\n",
    "    print(f\"  • Intercept = {res.intercept:.4f}\")\n",
    "    print(f\"  • R²        = {res.rvalue**2:.4f}\\n\")"
   ]
  },
  {
   "cell_type": "markdown",
   "id": "b5fc0f53",
   "metadata": {},
   "source": [
    "## Histograms & Bubble Chart\n",
    "\n",
    "- Histograms of GHI and WS  \n",
    "- Bubble: GHI vs. Tamb (bubble size = RH)\n"
   ]
  },
  {
   "cell_type": "code",
   "execution_count": null,
   "id": "5d027a86",
   "metadata": {},
   "outputs": [],
   "source": [
    "# Histograms\n",
    "for c in [\"GHI\",\"WS\"]:\n",
    "    if c in df_clean:\n",
    "        plt.figure()\n",
    "        plt.hist(df[c].dropna())\n",
    "        plt.title(f\"Histogram of {c}\")\n",
    "        plt.xlabel(c)\n",
    "        plt.ylabel(\"Frequency\")\n",
    "        plt.tight_layout()\n",
    "        plt.show()\n",
    "\n",
    "# Bubble chart\n",
    "if all(c in df_clean for c in (\"GHI\",\"Tamb\",\"RH\")):\n",
    "    plt.figure()\n",
    "    plt.scatter(df_clean[\"GHI\"], df_clean[\"Tamb\"], s=df_clean[\"RH\"])\n",
    "    plt.title(\"GHI vs. Tamb (size=RH)\")\n",
    "    plt.xlabel(\"GHI\")\n",
    "    plt.ylabel(\"Tamb\")\n",
    "    plt.tight_layout()\n",
    "    plt.show()\n",
    "else:\n",
    "    print(\"GHI, Tamb, or RH missing.\")\n"
   ]
  },
  {
   "cell_type": "markdown",
   "id": "897bb6a2",
   "metadata": {},
   "source": [
    "## Correlation Coefficients"
   ]
  },
  {
   "cell_type": "code",
   "execution_count": null,
   "id": "ce70d157",
   "metadata": {},
   "outputs": [],
   "source": [
    "if \"RH\" in df_clean:\n",
    "    if \"Tamb\" in df_clean:\n",
    "        print(\"RH vs. Tamb correlation:\", df_clean[\"RH\"].corr(df_clean[\"Tamb\"]))\n",
    "    if \"GHI\" in df_clean:\n",
    "        print(\"RH vs. GHI correlation:\", df_clean[\"RH\"].corr(df_clean[\"GHI\"]))"
   ]
  }
 ],
 "metadata": {
  "kernelspec": {
   "display_name": ".env",
   "language": "python",
   "name": "python3"
  },
  "language_info": {
   "codemirror_mode": {
    "name": "ipython",
    "version": 3
   },
   "file_extension": ".py",
   "mimetype": "text/x-python",
   "name": "python",
   "nbconvert_exporter": "python",
   "pygments_lexer": "ipython3",
   "version": "3.12.3"
  }
 },
 "nbformat": 4,
 "nbformat_minor": 5
}
